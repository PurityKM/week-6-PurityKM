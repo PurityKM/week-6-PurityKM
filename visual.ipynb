{
 "cells": [
  {
   "cell_type": "code",
   "execution_count": 2,
   "metadata": {},
   "outputs": [],
   "source": [
    "import matplotlib.pyplot as plt\n",
    "import pandas as pd"
   ]
  },
  {
   "cell_type": "code",
   "execution_count": 23,
   "metadata": {},
   "outputs": [
    {
     "data": {
      "text/html": [
       "<div>\n",
       "<style scoped>\n",
       "    .dataframe tbody tr th:only-of-type {\n",
       "        vertical-align: middle;\n",
       "    }\n",
       "\n",
       "    .dataframe tbody tr th {\n",
       "        vertical-align: top;\n",
       "    }\n",
       "\n",
       "    .dataframe thead th {\n",
       "        text-align: right;\n",
       "    }\n",
       "</style>\n",
       "<table border=\"1\" class=\"dataframe\">\n",
       "  <thead>\n",
       "    <tr style=\"text-align: right;\">\n",
       "      <th></th>\n",
       "      <th>Date</th>\n",
       "      <th>Item</th>\n",
       "      <th>Amount</th>\n",
       "      <th>Category</th>\n",
       "      <th>Time</th>\n",
       "      <th>day</th>\n",
       "    </tr>\n",
       "  </thead>\n",
       "  <tbody>\n",
       "    <tr>\n",
       "      <th>0</th>\n",
       "      <td>1/3/2023</td>\n",
       "      <td>chai</td>\n",
       "      <td>7</td>\n",
       "      <td>alone</td>\n",
       "      <td>7:00</td>\n",
       "      <td>Wednesday</td>\n",
       "    </tr>\n",
       "    <tr>\n",
       "      <th>1</th>\n",
       "      <td>1/3/2023</td>\n",
       "      <td>chai</td>\n",
       "      <td>20</td>\n",
       "      <td>friend</td>\n",
       "      <td>10:00</td>\n",
       "      <td>Wednesday</td>\n",
       "    </tr>\n",
       "    <tr>\n",
       "      <th>2</th>\n",
       "      <td>1/3/2023</td>\n",
       "      <td>juice</td>\n",
       "      <td>15</td>\n",
       "      <td>friend</td>\n",
       "      <td>13:00</td>\n",
       "      <td>Wednesday</td>\n",
       "    </tr>\n",
       "    <tr>\n",
       "      <th>3</th>\n",
       "      <td>1/3/2023</td>\n",
       "      <td>rikshow</td>\n",
       "      <td>12</td>\n",
       "      <td>alone</td>\n",
       "      <td>14:00</td>\n",
       "      <td>Wednesday</td>\n",
       "    </tr>\n",
       "    <tr>\n",
       "      <th>4</th>\n",
       "      <td>1/3/2023</td>\n",
       "      <td>coffee</td>\n",
       "      <td>12</td>\n",
       "      <td>alone</td>\n",
       "      <td>15:00</td>\n",
       "      <td>Wednesday</td>\n",
       "    </tr>\n",
       "    <tr>\n",
       "      <th>...</th>\n",
       "      <td>...</td>\n",
       "      <td>...</td>\n",
       "      <td>...</td>\n",
       "      <td>...</td>\n",
       "      <td>...</td>\n",
       "      <td>...</td>\n",
       "    </tr>\n",
       "    <tr>\n",
       "      <th>140</th>\n",
       "      <td>30/3/2023</td>\n",
       "      <td>chai with snaks</td>\n",
       "      <td>15</td>\n",
       "      <td>alone</td>\n",
       "      <td>17:30</td>\n",
       "      <td>Thursday</td>\n",
       "    </tr>\n",
       "    <tr>\n",
       "      <th>141</th>\n",
       "      <td>30/3/2023</td>\n",
       "      <td>others</td>\n",
       "      <td>20</td>\n",
       "      <td>alone</td>\n",
       "      <td>19:00</td>\n",
       "      <td>Thursday</td>\n",
       "    </tr>\n",
       "    <tr>\n",
       "      <th>142</th>\n",
       "      <td>31/3/2023</td>\n",
       "      <td>chai with snaks</td>\n",
       "      <td>15</td>\n",
       "      <td>alone</td>\n",
       "      <td>9:00</td>\n",
       "      <td>Friday</td>\n",
       "    </tr>\n",
       "    <tr>\n",
       "      <th>143</th>\n",
       "      <td>31/3/2023</td>\n",
       "      <td>coldrink</td>\n",
       "      <td>20</td>\n",
       "      <td>friend</td>\n",
       "      <td>15:00</td>\n",
       "      <td>Friday</td>\n",
       "    </tr>\n",
       "    <tr>\n",
       "      <th>144</th>\n",
       "      <td>31/3/2023</td>\n",
       "      <td>chai with snaks</td>\n",
       "      <td>25</td>\n",
       "      <td>alone</td>\n",
       "      <td>17:00</td>\n",
       "      <td>Friday</td>\n",
       "    </tr>\n",
       "  </tbody>\n",
       "</table>\n",
       "<p>145 rows × 6 columns</p>\n",
       "</div>"
      ],
      "text/plain": [
       "          Date             Item  Amount Category   Time        day\n",
       "0     1/3/2023             chai       7    alone   7:00  Wednesday\n",
       "1     1/3/2023             chai      20   friend  10:00  Wednesday\n",
       "2     1/3/2023            juice      15   friend  13:00  Wednesday\n",
       "3     1/3/2023          rikshow      12    alone  14:00  Wednesday\n",
       "4     1/3/2023           coffee      12    alone  15:00  Wednesday\n",
       "..         ...              ...     ...      ...    ...        ...\n",
       "140  30/3/2023  chai with snaks      15    alone  17:30   Thursday\n",
       "141  30/3/2023           others      20    alone  19:00   Thursday\n",
       "142  31/3/2023  chai with snaks      15    alone   9:00     Friday\n",
       "143  31/3/2023         coldrink      20   friend  15:00     Friday\n",
       "144  31/3/2023  chai with snaks      25    alone  17:00     Friday\n",
       "\n",
       "[145 rows x 6 columns]"
      ]
     },
     "execution_count": 23,
     "metadata": {},
     "output_type": "execute_result"
    }
   ],
   "source": [
    "expense = pd.read_csv(\"Expense data.csv\", delimiter=';')\n",
    "expense"
   ]
  },
  {
   "cell_type": "code",
   "execution_count": 24,
   "metadata": {},
   "outputs": [
    {
     "name": "stdout",
     "output_type": "stream",
     "text": [
      "Index(['Date', 'Item', 'Amount', 'Category', 'Time', 'day'], dtype='object')\n"
     ]
    }
   ],
   "source": [
    "print(expense.columns)\n"
   ]
  },
  {
   "cell_type": "code",
   "execution_count": 25,
   "metadata": {},
   "outputs": [
    {
     "name": "stdout",
     "output_type": "stream",
     "text": [
      "Index(['Date', 'Item', 'Amount', 'Category', 'Time', 'day'], dtype='object')\n"
     ]
    }
   ],
   "source": [
    "expense.columns = expense.columns.str.strip()  # Removes any leading/trailing spaces from column names\n",
    "print(expense.columns)\n"
   ]
  },
  {
   "cell_type": "code",
   "execution_count": 27,
   "metadata": {},
   "outputs": [
    {
     "data": {
      "text/plain": [
       "Category\n",
       "alone     2710\n",
       "friend    1889\n",
       "Name: Amount, dtype: int64"
      ]
     },
     "execution_count": 27,
     "metadata": {},
     "output_type": "execute_result"
    }
   ],
   "source": [
    "# Group by Category and sum the Amounts\n",
    "expense_by_category = expense.groupby('Category')['Amount'].sum()\n",
    "expense_by_category"
   ]
  },
  {
   "cell_type": "code",
   "execution_count": 26,
   "metadata": {},
   "outputs": [
    {
     "data": {
      "image/png": "[encoded data removed]",
      "text/plain": [
       "<Figure size 432x288 with 1 Axes>"
      ]
     },
     "metadata": {
      "needs_background": "light"
     },
     "output_type": "display_data"
    }
   ],
   "source": [
    "# Plotting the bar chart\n",
    "expense_by_category.plot(kind='bar', color='skyblue')\n",
    "\n",
    "# Customizing the chart\n",
    "plt.title('Total Expenses by Category - March 2023')\n",
    "plt.xlabel('Category')\n",
    "plt.ylabel('Total Amount')\n",
    "plt.xticks(rotation=45)  # Rotate category labels for better readability\n",
    "\n",
    "# Display the chart\n",
    "plt.show()\n"
   ]
  },
  {
   "cell_type": "code",
   "execution_count": 32,
   "metadata": {},
   "outputs": [],
   "source": [
    "# Convert 'Date' column to datetime\n",
    "expense['Date'] = pd.to_datetime(expense['Date'], format='%d/%m/%Y')\n",
    "\n",
    "# Extract the day of the month\n",
    "expense['Day'] = expense['Date'].dt.day\n",
    "\n",
    "\n"
   ]
  },
  {
   "cell_type": "code",
   "execution_count": 36,
   "metadata": {},
   "outputs": [
    {
     "data": {
      "text/plain": [
       "Day\n",
       "1     111\n",
       "2     131\n",
       "3     117\n",
       "4     126\n",
       "5     632\n",
       "6      71\n",
       "7     432\n",
       "8     422\n",
       "9      60\n",
       "10     47\n",
       "11    154\n",
       "12    390\n",
       "13    147\n",
       "14     94\n",
       "15     52\n",
       "16    135\n",
       "17     52\n",
       "18     55\n",
       "19    130\n",
       "20    125\n",
       "21     60\n",
       "22    130\n",
       "23     50\n",
       "24     80\n",
       "25     67\n",
       "26    125\n",
       "27    327\n",
       "28    105\n",
       "29     50\n",
       "30     72\n",
       "31     60\n",
       "Name: Amount, dtype: int64"
      ]
     },
     "execution_count": 36,
     "metadata": {},
     "output_type": "execute_result"
    }
   ],
   "source": [
    "# Group by 'Day' and calculate total expenses\n",
    "expense_by_day = expense.groupby('Day')['Amount'].sum()\n",
    "expense_by_day"
   ]
  },
  {
   "cell_type": "code",
   "execution_count": 35,
   "metadata": {},
   "outputs": [
    {
     "data": {
      "image/png": "[encoded data removed]",
      "text/plain": [
       "<Figure size 432x288 with 1 Axes>"
      ]
     },
     "metadata": {
      "needs_background": "light"
     },
     "output_type": "display_data"
    }
   ],
   "source": [
    "# Plotting the line graph\n",
    "expense_by_day.plot(kind='line', marker='o', color='blue')\n",
    "\n",
    "# Customizing the chart\n",
    "plt.title('Daily Expense Trends - March 2023')\n",
    "plt.xlabel('Day of the Month')\n",
    "plt.ylabel('Total Expenses')\n",
    "plt.grid(True)  # Adds grid lines to the plot for better readability\n",
    "\n",
    "# Display the chart\n",
    "plt.show()\n"
   ]
  },
  {
   "cell_type": "code",
   "execution_count": 39,
   "metadata": {},
   "outputs": [
    {
     "data": {
      "image/png": "[encoded data removed]",
      "text/plain": [
       "<Figure size 432x288 with 1 Axes>"
      ]
     },
     "metadata": {},
     "output_type": "display_data"
    }
   ],
   "source": [
    "# Plotting the pie chart\n",
    "expense_by_category.plot(kind='pie', autopct='%1.1f%%', colors=plt.cm.Paired.colors, textprops={'fontsize': 14, 'color': 'white'}, startangle=140)\n",
    "\n",
    "# Customizing the chart\n",
    "plt.title('Spending Proportions by Category - March 2023', color='white')\n",
    "plt.ylabel('')  # Hide the y-label for better visual appeal\n",
    "\n",
    "# Display the chart\n",
    "plt.show()\n"
   ]
  }
 ],
 "metadata": {
  "kernelspec": {
   "display_name": "Python 3",
   "language": "python",
   "name": "python3"
  },
  "language_info": {
   "codemirror_mode": {
    "name": "ipython",
    "version": 3
   },
   "file_extension": ".py",
   "mimetype": "text/x-python",
   "name": "python",
   "nbconvert_exporter": "python",
   "pygments_lexer": "ipython3",
   "version": "3.9.12"
  }
 },
 "nbformat": 4,
 "nbformat_minor": 2
}
